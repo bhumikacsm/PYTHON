{
  "nbformat": 4,
  "nbformat_minor": 0,
  "metadata": {
    "colab": {
      "provenance": []
    },
    "kernelspec": {
      "name": "python3",
      "display_name": "Python 3"
    },
    "language_info": {
      "name": "python"
    }
  },
  "cells": [
    {
      "cell_type": "code",
      "source": [
        "def find_largest(num1, num2, num3):\n",
        "    return max(num1, num2, num3)\n",
        "\n",
        "# Get user input\n",
        "num1 = float(input(\"Enter the first number: \"))\n",
        "num2 = float(input(\"Enter the second number: \"))\n",
        "num3 = float(input(\"Enter the third number: \"))\n",
        "\n",
        "# Find and display the largest number\n",
        "largest = find_largest(num1, num2, num3)\n",
        "print(f\"The largest number among {num1}, {num2}, and {num3} is: {largest}\")\n"
      ],
      "metadata": {
        "colab": {
          "base_uri": "https://localhost:8080/"
        },
        "id": "I26l5p63_Kk9",
        "outputId": "55ae7f10-c144-449b-d096-bf90dc8df07c"
      },
      "execution_count": 24,
      "outputs": [
        {
          "output_type": "stream",
          "name": "stdout",
          "text": [
            "Enter the first number: 12\n",
            "Enter the second number: 50\n",
            "Enter the third number: 45\n",
            "The largest number among 12.0, 50.0, and 45.0 is: 50.0\n"
          ]
        }
      ]
    }
  ]
}