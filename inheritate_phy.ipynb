{
  "nbformat": 4,
  "nbformat_minor": 0,
  "metadata": {
    "colab": {
      "provenance": []
    },
    "kernelspec": {
      "name": "python3",
      "display_name": "Python 3"
    },
    "language_info": {
      "name": "python"
    }
  },
  "cells": [
    {
      "cell_type": "code",
      "execution_count": 1,
      "metadata": {
        "colab": {
          "base_uri": "https://localhost:8080/"
        },
        "id": "wvVapfhk9hki",
        "outputId": "b618d142-242d-4f68-f253-7bc183d5c6f3"
      },
      "outputs": [
        {
          "output_type": "stream",
          "name": "stdout",
          "text": [
            "Bhumika\n",
            "EC10\n"
          ]
        }
      ],
      "source": [
        "class Person:\n",
        "    def print_name(self):\n",
        "        print(\"Bhumika\")\n",
        "\n",
        "class Student(Person):\n",
        "    def print_course(self):\n",
        "        print(\"EC10\")\n",
        "\n",
        "student = Student()\n",
        "student.print_name()\n",
        "student.print_course()\n"
      ]
    }
  ]
}