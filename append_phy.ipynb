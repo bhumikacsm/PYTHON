{
  "nbformat": 4,
  "nbformat_minor": 0,
  "metadata": {
    "colab": {
      "provenance": []
    },
    "kernelspec": {
      "name": "python3",
      "display_name": "Python 3"
    },
    "language_info": {
      "name": "python"
    }
  },
  "cells": [
    {
      "cell_type": "code",
      "source": [
        "file_name = \"example.txt\"\n",
        "\n",
        "user_input = input(\"Please enter some text to append to the file: \")\n",
        "try:\n",
        "    with open(file_name, 'a') as file:\n",
        "        file.write(user_input + \"\\n\")\n",
        "        print(f\"Your input has been appended to {file_name}\")\n",
        "except Exception as e:\n",
        "    print(f\"An error occurred: {e}\")\n"
      ],
      "metadata": {
        "id": "xpOpasnRjjtu"
      },
      "execution_count": null,
      "outputs": []
    }
  ]
}