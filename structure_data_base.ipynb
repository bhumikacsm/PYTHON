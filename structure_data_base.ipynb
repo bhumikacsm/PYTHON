{
  "nbformat": 4,
  "nbformat_minor": 0,
  "metadata": {
    "colab": {
      "provenance": []
    },
    "kernelspec": {
      "name": "python3",
      "display_name": "Python 3"
    },
    "language_info": {
      "name": "python"
    }
  },
  "cells": [
    {
      "cell_type": "code",
      "source": [
        "# Creating a list\n",
        "my_list = [5, 2, 8, 1, 7]\n",
        "\n",
        "# Assigning an item (modifying an element)\n",
        "my_list[1] = 10\n",
        "print(\"After assigning an item:\", my_list)\n",
        "\n",
        "# Inserting an item at a specific index\n",
        "my_list.insert(2, 3)  # Insert 3 at index 2\n",
        "print(\"After inserting an item:\", my_list)\n",
        "\n",
        "# Getting the length of the list\n",
        "length = len(my_list)\n",
        "print(\"Length of the list:\", length)\n",
        "\n",
        "# Sorting the list\n",
        "my_list.sort()\n",
        "print(\"After sorting:\", my_list)\n",
        "\n",
        "# Reversing the list\n",
        "my_list.reverse()\n",
        "print(\"After reversing:\", my_list)\n",
        "\n",
        "# Iterating through the list\n",
        "print(\"Iterating through the list:\")\n",
        "for item in my_list:\n",
        "    print(item)\n"
      ],
      "metadata": {
        "colab": {
          "base_uri": "https://localhost:8080/"
        },
        "id": "1u7TVL5o9Ltl",
        "outputId": "77dd6e4b-b175-45fc-f1af-1c6f22f112ac"
      },
      "execution_count": 7,
      "outputs": [
        {
          "output_type": "stream",
          "name": "stdout",
          "text": [
            "After assigning an item: [5, 10, 8, 1, 7]\n",
            "After inserting an item: [5, 10, 3, 8, 1, 7]\n",
            "Length of the list: 6\n",
            "After sorting: [1, 3, 5, 7, 8, 10]\n",
            "After reversing: [10, 8, 7, 5, 3, 1]\n",
            "Iterating through the list:\n",
            "10\n",
            "8\n",
            "7\n",
            "5\n",
            "3\n",
            "1\n"
          ]
        }
      ]
    }
  ]
}