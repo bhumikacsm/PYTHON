{
  "nbformat": 4,
  "nbformat_minor": 0,
  "metadata": {
    "colab": {
      "provenance": []
    },
    "kernelspec": {
      "name": "python3",
      "display_name": "Python 3"
    },
    "language_info": {
      "name": "python"
    }
  },
  "cells": [
    {
      "cell_type": "code",
      "source": [
        "from collections import OrderedDict\n",
        "\n",
        "# Creating a dictionary\n",
        "my_dict = {'a': 5, 'b': 2, 'c': 8, 'd': 1}\n",
        "\n",
        "# Assigning a value (modifying an existing key)\n",
        "my_dict['b'] = 10\n",
        "print(\"After assigning a value:\", my_dict)\n",
        "\n",
        "# Inserting a new key-value pair\n",
        "my_dict['e'] = 7\n",
        "print(\"After inserting a new key-value pair:\", my_dict)\n",
        "\n",
        "# Getting the length of the dictionary\n",
        "length = len(my_dict)\n",
        "print(\"Length of the dictionary:\", length)\n",
        "\n",
        "# Sorting the dictionary by keys\n",
        "sorted_dict = dict(sorted(my_dict.items()))\n",
        "print(\"After sorting by keys:\", sorted_dict)\n",
        "\n",
        "# Reversing the dictionary (using OrderedDict)\n",
        "reversed_dict = OrderedDict(reversed(my_dict.items()))\n",
        "print(\"After reversing the dictionary:\", reversed_dict)\n",
        "\n",
        "# Iterating through the dictionary\n",
        "print(\"Iterating through the dictionary:\")\n",
        "for key, value in my_dict.items():\n",
        "    print(key, \":\", value)\n"
      ],
      "metadata": {
        "id": "jZztT8GNJYFo"
      },
      "execution_count": null,
      "outputs": []
    }
  ]
}