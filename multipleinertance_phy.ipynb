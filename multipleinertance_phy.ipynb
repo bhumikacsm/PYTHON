{
  "nbformat": 4,
  "nbformat_minor": 0,
  "metadata": {
    "colab": {
      "provenance": []
    },
    "kernelspec": {
      "name": "python3",
      "display_name": "Python 3"
    },
    "language_info": {
      "name": "python"
    }
  },
  "cells": [
    {
      "cell_type": "code",
      "source": [
        "class Person:\n",
        "    def print_name(self):\n",
        "        print(\"Bhumika\")\n",
        "\n",
        "class Course:\n",
        "    def print_course(self):\n",
        "        print(\"EC10\")\n",
        "\n",
        "class Student(Person, Course):\n",
        "    pass\n",
        "student = Student()\n",
        "student.print_name()\n",
        "student.print_course()\n"
      ],
      "metadata": {
        "colab": {
          "base_uri": "https://localhost:8080/"
        },
        "id": "3G4m1_MSAayT",
        "outputId": "b8b1c977-06d2-4871-915d-acb46f7b9826"
      },
      "execution_count": 2,
      "outputs": [
        {
          "output_type": "stream",
          "name": "stdout",
          "text": [
            "Bhumika\n",
            "EC10\n"
          ]
        }
      ]
    }
  ]
}