{
  "nbformat": 4,
  "nbformat_minor": 0,
  "metadata": {
    "colab": {
      "provenance": []
    },
    "kernelspec": {
      "name": "python3",
      "display_name": "Python 3"
    },
    "language_info": {
      "name": "python"
    }
  },
  "cells": [
    {
      "cell_type": "code",
      "source": [
        "class Person:\n",
        "    def print_details(self):\n",
        "        print(\"This is a person.\")\n",
        "class Student(Person):\n",
        "    def print_details(self):\n",
        "        print(\"This is a student.\")\n",
        "\n",
        "class Teacher(Person):\n",
        "    def print_details(self):\n",
        "        print(\"This is a teacher.\")\n",
        "\n",
        "person = Person()\n",
        "student = Student()\n",
        "teacher = Teacher()\n",
        "person.print_details()\n",
        "student.print_details()\n",
        "teacher.print_details()\n"
      ],
      "metadata": {
        "colab": {
          "base_uri": "https://localhost:8080/"
        },
        "id": "xV-siA2hBORg",
        "outputId": "a93452bb-110d-42e7-e9a2-43395c91745f"
      },
      "execution_count": 3,
      "outputs": [
        {
          "output_type": "stream",
          "name": "stdout",
          "text": [
            "This is a person.\n",
            "This is a student.\n",
            "This is a teacher.\n"
          ]
        }
      ]
    }
  ]
}