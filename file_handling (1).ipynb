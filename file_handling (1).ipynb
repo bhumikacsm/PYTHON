{
  "nbformat": 4,
  "nbformat_minor": 0,
  "metadata": {
    "colab": {
      "provenance": [],
      "toc_visible": true
    },
    "kernelspec": {
      "name": "python3",
      "display_name": "Python 3"
    },
    "language_info": {
      "name": "python"
    }
  },
  "cells": [
    {
      "cell_type": "code",
      "source": [
        "file = open(\"example.txt\", \"w\")\n",
        "\n",
        "file.write(\"Hello, World!\\nThis is file handling in Python.\")\n",
        "\n",
        "file.close()\n",
        "\n",
        "file = open(\"example.txt\", \"r\")\n",
        "\n",
        "content = file.read()\n",
        "print(content)\n",
        "\n",
        "file.close()\n"
      ],
      "metadata": {
        "colab": {
          "base_uri": "https://localhost:8080/"
        },
        "id": "2DsYvcR_LIp7",
        "outputId": "614ea825-da62-4c66-aec7-8db8c329aaad"
      },
      "execution_count": 4,
      "outputs": [
        {
          "output_type": "stream",
          "name": "stdout",
          "text": [
            "Hello, World!\n",
            "This is file handling in Python.\n"
          ]
        }
      ]
    }
  ]
}