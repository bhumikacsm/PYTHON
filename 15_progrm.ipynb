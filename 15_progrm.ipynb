{
  "nbformat": 4,
  "nbformat_minor": 0,
  "metadata": {
    "colab": {
      "provenance": []
    },
    "kernelspec": {
      "name": "python3",
      "display_name": "Python 3"
    },
    "language_info": {
      "name": "python"
    }
  },
  "cells": [
    {
      "cell_type": "code",
      "source": [
        "numbers = [10, 20, 30, 40, 50]\n",
        "\n",
        "print(\"bhumika ec10:\", numbers)\n"
      ],
      "metadata": {
        "colab": {
          "base_uri": "https://localhost:8080/"
        },
        "id": "CDWHfC9-ssQ6",
        "outputId": "83106850-363c-48e4-f01c-ba1ff9dc4e71"
      },
      "execution_count": 3,
      "outputs": [
        {
          "output_type": "stream",
          "name": "stdout",
          "text": [
            "bhumika ec10: [10, 20, 30, 40, 50]\n"
          ]
        }
      ]
    },
    {
      "cell_type": "code",
      "source": [
        "number = [10,20,30,40,50]\n",
        "first_element = number[0]\n",
        "last_element = number[-1]\n",
        "midle_element = number[len(number)//2]\n",
        "print(\"bhumika ec10:first element:\",first_element)\n",
        "print(\"bhumika ec10:second element:\",last_element)\n",
        "print(\"bhumika ec10:midle element:\",midle_element)\n"
      ],
      "metadata": {
        "colab": {
          "base_uri": "https://localhost:8080/"
        },
        "id": "DL8cgiHBtoY8",
        "outputId": "7d149b3d-35ed-47c4-839e-be9ef0911f3b"
      },
      "execution_count": 4,
      "outputs": [
        {
          "output_type": "stream",
          "name": "stdout",
          "text": [
            "bhumika ec10:first element: 10\n",
            "bhumika ec10:second element: 50\n",
            "bhumika ec10:midle element: 30\n"
          ]
        }
      ]
    },
    {
      "cell_type": "code",
      "source": [
        "number = [10,20,30,40,50]\n",
        "number.append(60)\n",
        "number.insert(2,5)\n",
        "print(\"bhumika ec10:\",number)"
      ],
      "metadata": {
        "colab": {
          "base_uri": "https://localhost:8080/"
        },
        "id": "a6bJHt0Lwzne",
        "outputId": "e370cebb-1acf-4322-d2a6-80b0bd395d78"
      },
      "execution_count": 5,
      "outputs": [
        {
          "output_type": "stream",
          "name": "stdout",
          "text": [
            "bhumika ec10: [10, 20, 5, 30, 40, 50, 60]\n"
          ]
        }
      ]
    },
    {
      "cell_type": "code",
      "source": [
        "number = [70,80,90,60]\n",
        "number.remove(60)\n",
        "removed_element = number.pop(2)\n",
        "print(\"bhumika ec10:upated list:\",number)\n",
        "print(\"bhumika ec10:poped element:\",removed_element)"
      ],
      "metadata": {
        "colab": {
          "base_uri": "https://localhost:8080/"
        },
        "id": "lV6o_TBsx7MR",
        "outputId": "0ee3635e-ded3-4379-e5fa-2d4db002666e"
      },
      "execution_count": 7,
      "outputs": [
        {
          "output_type": "stream",
          "name": "stdout",
          "text": [
            "bhumika ec10:upated list: [70, 80]\n",
            "bhumika ec10:poped element: 90\n"
          ]
        }
      ]
    },
    {
      "cell_type": "code",
      "source": [
        "numbers = [50, 10, 40, 30, 20]\n",
        "\n",
        "ascending_order = sorted(numbers)\n",
        "\n",
        "descending_order = sorted(numbers, reverse=True)\n",
        "print(\"bhumika ec10: Ascending order:\", ascending_order)\n",
        "print(\"bhumika ec10: Descending order:\", descending_order)\n"
      ],
      "metadata": {
        "colab": {
          "base_uri": "https://localhost:8080/"
        },
        "id": "-QbdSglb1f8K",
        "outputId": "ab5b9386-b2ec-4e5a-ad68-0a78fcc34eca"
      },
      "execution_count": 9,
      "outputs": [
        {
          "output_type": "stream",
          "name": "stdout",
          "text": [
            "bhumika ec10: Ascending order: [10, 20, 30, 40, 50]\n",
            "bhumika ec10: Descending order: [50, 40, 30, 20, 10]\n"
          ]
        }
      ]
    },
    {
      "cell_type": "code",
      "source": [
        "numbers = [10, 20, 30, 40, 50]\n",
        "\n",
        "numbers.reverse()\n",
        "print(\"bhumika ec10: Reversed list:\", numbers)\n"
      ],
      "metadata": {
        "colab": {
          "base_uri": "https://localhost:8080/"
        },
        "id": "6iq5pdmH4djc",
        "outputId": "b6c8ea2d-ae8b-405f-d391-f87852667468"
      },
      "execution_count": 10,
      "outputs": [
        {
          "output_type": "stream",
          "name": "stdout",
          "text": [
            "bhumika ec10: Reversed list: [50, 40, 30, 20, 10]\n"
          ]
        }
      ]
    },
    {
      "cell_type": "code",
      "source": [
        "def sum_of_list(numbers):\n",
        "    return sum(numbers)\n",
        "\n",
        "numbers = [10, 20, 30, 40, 50]\n",
        "\n",
        "total = sum_of_list(numbers)\n",
        "\n",
        "print(\"bhumikaec10: Sum of list elements:\", total)\n"
      ],
      "metadata": {
        "colab": {
          "base_uri": "https://localhost:8080/"
        },
        "id": "OiJjn9aB5GnC",
        "outputId": "599f4b02-4654-496c-d0c4-d8d1ab25608a"
      },
      "execution_count": 11,
      "outputs": [
        {
          "output_type": "stream",
          "name": "stdout",
          "text": [
            "bhumikaec10: Sum of list elements: 150\n"
          ]
        }
      ]
    },
    {
      "cell_type": "code",
      "source": [
        "def find_max_min(numbers):\n",
        "    maximum = max(numbers)\n",
        "    minimum = min(numbers)\n",
        "    return maximum, minimum\n",
        "\n",
        "numbers = [10, 20, 5, 40, 50]\n",
        "\n",
        "largest, smallest = find_max_min(numbers)\n",
        "\n",
        "print(\"bhumika ec10: Largest number:\", largest)\n",
        "print(\"bhumika ec10: Smallest number:\", smallest)\n"
      ],
      "metadata": {
        "colab": {
          "base_uri": "https://localhost:8080/"
        },
        "id": "_LMHHUMr5lq-",
        "outputId": "51c81a62-60dd-42bb-ddea-95ce73f90c67"
      },
      "execution_count": 12,
      "outputs": [
        {
          "output_type": "stream",
          "name": "stdout",
          "text": [
            "bhumika ec10: Largest number: 50\n",
            "bhumika ec10: Smallest number: 5\n"
          ]
        }
      ]
    },
    {
      "cell_type": "code",
      "source": [
        "def count_occurrences(lst, element):\n",
        "    return lst.count(element)\n",
        "\n",
        "numbers = [10, 20, 30, 10, 40, 50, 10, 20, 10]\n",
        "\n",
        "element_to_count = 10\n",
        "\n",
        "count = count_occurrences(numbers, element_to_count)\n",
        "\n",
        "print(\"bhumika ec10: The element\", element_to_count, \"appears\", count, \"times in the list.\")\n"
      ],
      "metadata": {
        "colab": {
          "base_uri": "https://localhost:8080/"
        },
        "id": "NAMCYqud6GFZ",
        "outputId": "e8f207b1-bcda-4845-dd20-93941183e5c8"
      },
      "execution_count": 13,
      "outputs": [
        {
          "output_type": "stream",
          "name": "stdout",
          "text": [
            "bhumika ec10: The element 10 appears 4 times in the list.\n"
          ]
        }
      ]
    },
    {
      "cell_type": "code",
      "source": [
        "def merge_and_remove_duplicates(list1, list2):\n",
        "    merged_list = list(set(list1 + list2))\n",
        "    return merged_list\n",
        "\n",
        "list1 = [10, 20, 30, 40, 50]\n",
        "list2 = [30, 40, 50, 60, 70]\n",
        "\n",
        "merged_list = merge_and_remove_duplicates(list1, list2)\n",
        "\n",
        "print(\"bhumika ec10: Merged list without duplicates:\", merged_list)\n"
      ],
      "metadata": {
        "colab": {
          "base_uri": "https://localhost:8080/"
        },
        "id": "49UVgRlN7IKC",
        "outputId": "f0aff88e-29ad-4305-d19d-929e087034ca"
      },
      "execution_count": 14,
      "outputs": [
        {
          "output_type": "stream",
          "name": "stdout",
          "text": [
            "bhumika ec10: Merged list without duplicates: [70, 40, 10, 50, 20, 60, 30]\n"
          ]
        }
      ]
    },
    {
      "cell_type": "code",
      "source": [
        "my_tuple = (10, 20, 30, 40, 50)\n",
        "\n",
        "first_element = my_tuple[0]\n",
        "middle_element = my_tuple[2]\n",
        "last_element = my_tuple[-1]\n",
        "\n",
        "print(\"bhumika ec10: First element:\", first_element)\n",
        "print(\"bhumika ec10: Middle element:\", middle_element)\n",
        "print(\"bhumika ec10: Last element:\", last_element)\n"
      ],
      "metadata": {
        "colab": {
          "base_uri": "https://localhost:8080/"
        },
        "id": "c6uTWKxx7lzd",
        "outputId": "5e36706f-e3f8-4a6e-c225-b4ba49b58ae7"
      },
      "execution_count": 15,
      "outputs": [
        {
          "output_type": "stream",
          "name": "stdout",
          "text": [
            "bhumika ec10: First element: 10\n",
            "bhumika ec10: Middle element: 30\n",
            "bhumika ec10: Last element: 50\n"
          ]
        }
      ]
    },
    {
      "cell_type": "code",
      "source": [
        "my_tuple = (10, 20, 30, 40, 50)\n",
        "\n",
        "a, b, c, d, e = my_tuple\n",
        "\n",
        "print(\"bhumika ec10: Unpacked values:\", a, b, c, d, e)\n"
      ],
      "metadata": {
        "colab": {
          "base_uri": "https://localhost:8080/"
        },
        "id": "tIkexW-v8FVn",
        "outputId": "32af8472-6bc1-4058-e982-3bcafede67df"
      },
      "execution_count": 16,
      "outputs": [
        {
          "output_type": "stream",
          "name": "stdout",
          "text": [
            "bhumika ec10: Unpacked values: 10 20 30 40 50\n"
          ]
        }
      ]
    },
    {
      "cell_type": "code",
      "source": [
        "my_tuple = (10, 20, 30, 40, 50)\n",
        "\n",
        "my_list = list(my_tuple)\n",
        "\n",
        "new_list = [60, 70, 80, 90, 100]\n",
        "\n",
        "new_tuple = tuple(new_list)\n",
        "\n",
        "print(\"bhumika ec10: Tuple to List:\", my_list)\n",
        "print(\"bhumika ec10: List to Tuple:\", new_tuple)\n"
      ],
      "metadata": {
        "colab": {
          "base_uri": "https://localhost:8080/"
        },
        "id": "3l-IPOmN9gg7",
        "outputId": "39349486-8ae6-45c1-a567-30636d46586c"
      },
      "execution_count": 17,
      "outputs": [
        {
          "output_type": "stream",
          "name": "stdout",
          "text": [
            "bhumika ec10: Tuple to List: [10, 20, 30, 40, 50]\n",
            "bhumika ec10: List to Tuple: (60, 70, 80, 90, 100)\n"
          ]
        }
      ]
    },
    {
      "cell_type": "code",
      "source": [
        "my_dict = {\n",
        "    \"name\": \"Alice\",\n",
        "    \"age\": 25,\n",
        "    \"city\": \"New York\"\n",
        "}\n",
        "\n",
        "print(\"bhumika 10:\", my_dict)\n"
      ],
      "metadata": {
        "colab": {
          "base_uri": "https://localhost:8080/"
        },
        "id": "Y5niuvlb-SUc",
        "outputId": "66f8ca4e-5de8-4cec-ef69-2390874ad0c5"
      },
      "execution_count": 18,
      "outputs": [
        {
          "output_type": "stream",
          "name": "stdout",
          "text": [
            "bhumika 10: {'name': 'Alice', 'age': 25, 'city': 'New York'}\n"
          ]
        }
      ]
    }
  ]
}