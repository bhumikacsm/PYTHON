{
  "nbformat": 4,
  "nbformat_minor": 0,
  "metadata": {
    "colab": {
      "provenance": []
    },
    "kernelspec": {
      "name": "python3",
      "display_name": "Python 3"
    },
    "language_info": {
      "name": "python"
    }
  },
  "cells": [
    {
      "cell_type": "code",
      "source": [
        "celsius =float(input(\"temp\"))\n",
        "faren=(celsius*9/5)+32\n",
        "print(faren)"
      ],
      "metadata": {
        "colab": {
          "base_uri": "https://localhost:8080/"
        },
        "id": "v8JhOnZTbgIz",
        "outputId": "c0f37e28-80b2-40f7-a3c4-ef6eef715618"
      },
      "execution_count": 14,
      "outputs": [
        {
          "output_type": "stream",
          "name": "stdout",
          "text": [
            "temp20\n",
            "68.0\n"
          ]
        }
      ]
    }
  ]
}