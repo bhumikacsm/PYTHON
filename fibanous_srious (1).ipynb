{
  "nbformat": 4,
  "nbformat_minor": 0,
  "metadata": {
    "colab": {
      "provenance": []
    },
    "kernelspec": {
      "name": "python3",
      "display_name": "Python 3"
    },
    "language_info": {
      "name": "python"
    }
  },
  "cells": [
    {
      "cell_type": "code",
      "source": [
        "a=int(input(\"enter start range\"))\n",
        "b=int(input(\"enter the end range\"))\n",
        "fact =1\n",
        "for i in range(1,6+1):\n",
        "  fact*=i\n",
        "  print(fact)"
      ],
      "metadata": {
        "colab": {
          "base_uri": "https://localhost:8080/"
        },
        "id": "LfDgeMSWmxTi",
        "outputId": "cf661f9b-bd25-432c-94ed-5c75e77d6f84"
      },
      "execution_count": 9,
      "outputs": [
        {
          "output_type": "stream",
          "name": "stdout",
          "text": [
            "enter start range1\n",
            "enter the end range2\n",
            "1\n",
            "2\n",
            "6\n",
            "24\n",
            "120\n",
            "720\n"
          ]
        }
      ]
    },
    {
      "cell_type": "code",
      "source": [
        "n =int(input(\"enter the number of terms:\"))\n",
        "a,b = 0,1\n",
        "for i in range(n):\n",
        "  print(a, end=\"\")\n",
        "  a, b = b, a + b\n"
      ],
      "metadata": {
        "colab": {
          "base_uri": "https://localhost:8080/"
        },
        "id": "kOoLZ40MrF-h",
        "outputId": "42aceb67-e634-4810-d4ff-56e7e0ace41d"
      },
      "execution_count": 10,
      "outputs": [
        {
          "output_type": "stream",
          "name": "stdout",
          "text": [
            "enter the number of terms:6\n",
            "011235"
          ]
        }
      ]
    }
  ]
}