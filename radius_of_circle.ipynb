{
  "nbformat": 4,
  "nbformat_minor": 0,
  "metadata": {
    "colab": {
      "provenance": []
    },
    "kernelspec": {
      "name": "python3",
      "display_name": "Python 3"
    },
    "language_info": {
      "name": "python"
    }
  },
  "cells": [
    {
      "cell_type": "code",
      "source": [
        " a=input(\"enter your name\")\n",
        " b=input(\"enter your age\")\n",
        " c=input(\"enetr yor heght and wegight\")\n",
        " print(\"my name is \",a)\n",
        " print(\"my age is\",b)\n",
        " print(\"my heght is ,my wegiht is\",c)"
      ],
      "metadata": {
        "colab": {
          "base_uri": "https://localhost:8080/"
        },
        "id": "a5roIiNtSeL6",
        "outputId": "3e83a0a1-0ee3-472d-f473-1320be80112b"
      },
      "execution_count": 6,
      "outputs": [
        {
          "output_type": "stream",
          "name": "stdout",
          "text": [
            "enter your namehuuu\n",
            "enter your age98\n",
            "enetr yor heght and wegight56,67\n",
            "my name is  huuu\n",
            "my age is 98\n",
            "my heght is ,my wegiht is 56,67\n"
          ]
        }
      ]
    },
    {
      "cell_type": "code",
      "source": [
        "num1=int(input(\"enter first number:\"))\n",
        "num2=int(input(\"enter second number:\"))\n",
        "result=num1+num2\n",
        "print(result)"
      ],
      "metadata": {
        "colab": {
          "base_uri": "https://localhost:8080/"
        },
        "id": "nol0zb-nT5xs",
        "outputId": "55826abc-3887-46b4-8e77-18c02e1b1e78"
      },
      "execution_count": 7,
      "outputs": [
        {
          "output_type": "stream",
          "name": "stdout",
          "text": [
            "enter first number:2\n",
            "enter second number:2\n",
            "4\n"
          ]
        }
      ]
    },
    {
      "cell_type": "code",
      "source": [
        "a=int(input(\"1st number\"))\n",
        "b=int(input(\"2nd number\"))\n",
        "print(a-b)\n",
        "d=a*b"
      ],
      "metadata": {
        "colab": {
          "base_uri": "https://localhost:8080/"
        },
        "id": "c8i4LDHqVZIh",
        "outputId": "4b6d262d-bf7a-44c7-b493-74bd43696b14"
      },
      "execution_count": 8,
      "outputs": [
        {
          "output_type": "stream",
          "name": "stdout",
          "text": [
            "1st number5\n",
            "2nd number3\n",
            "2\n"
          ]
        }
      ]
    },
    {
      "cell_type": "code",
      "source": [
        "a=int(input(\"1st number\"))\n",
        "b=int(input(\"2nd number\"))\n",
        "print(a+b)\n",
        "print(a-b)\n",
        "print(a*b)\n",
        "d=a*b"
      ],
      "metadata": {
        "colab": {
          "base_uri": "https://localhost:8080/"
        },
        "id": "6DPJcpbqWdA-",
        "outputId": "0606d888-9eb3-47e0-ec7a-c85d538918ff"
      },
      "execution_count": 9,
      "outputs": [
        {
          "output_type": "stream",
          "name": "stdout",
          "text": [
            "1st number5\n",
            "2nd number6\n",
            "11\n",
            "-1\n",
            "30\n"
          ]
        }
      ]
    },
    {
      "cell_type": "code",
      "source": [
        "a=int(input(\"enter a\"))\n",
        "b=int(input(\"enter b\"))\n",
        "#print(\"addition\",a+b)\n",
        "print(\"multiplication\",a*b)\n",
        "print(\"subraction\",a-b)\n",
        "#print(\"division\",a/b)"
      ],
      "metadata": {
        "colab": {
          "base_uri": "https://localhost:8080/"
        },
        "id": "Gtd7kPwjXaSb",
        "outputId": "01223c7a-c8eb-4d6a-d04e-4dcaa7b17baf"
      },
      "execution_count": 11,
      "outputs": [
        {
          "output_type": "stream",
          "name": "stdout",
          "text": [
            "enter a6\n",
            "enter b3\n",
            "multiplication 18\n",
            "subraction 3\n"
          ]
        }
      ]
    },
    {
      "cell_type": "code",
      "source": [
        "r =float(input(\"enter radius of circle\"))\n",
        "area=3.14*r*r\n",
        "print(\"area of circle\",area)"
      ],
      "metadata": {
        "colab": {
          "base_uri": "https://localhost:8080/"
        },
        "id": "_7wQ99w9ZPEC",
        "outputId": "2acbed44-1590-4fa1-9656-a802082acd42"
      },
      "execution_count": 12,
      "outputs": [
        {
          "output_type": "stream",
          "name": "stdout",
          "text": [
            "enter radius of circle2\n",
            "area of circle 12.56\n"
          ]
        }
      ]
    },
    {
      "cell_type": "code",
      "source": [],
      "metadata": {
        "id": "v8JhOnZTbgIz"
      },
      "execution_count": null,
      "outputs": []
    }
  ]
}