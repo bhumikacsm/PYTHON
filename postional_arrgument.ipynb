{
  "nbformat": 4,
  "nbformat_minor": 0,
  "metadata": {
    "colab": {
      "provenance": []
    },
    "kernelspec": {
      "name": "python3",
      "display_name": "Python 3"
    },
    "language_info": {
      "name": "python"
    }
  },
  "cells": [
    {
      "cell_type": "code",
      "source": [
        "def person(name, age, city=\"New York\", country=\"USA\"):\n",
        "    print(f\"Name: {name}, Age: {age}, City: {city}, Country: {country}\")\n",
        "\n",
        "person(\"Bob\", 30)\n",
        "\n"
      ],
      "metadata": {
        "colab": {
          "base_uri": "https://localhost:8080/"
        },
        "id": "hlLfHFYMls9i",
        "outputId": "8a67db7c-5a3d-4fb1-e4c9-f3a561cbd6dc"
      },
      "execution_count": 30,
      "outputs": [
        {
          "output_type": "stream",
          "name": "stdout",
          "text": [
            "Name: Bob, Age: 30, City: New York, Country: USA\n"
          ]
        }
      ]
    },
    {
      "cell_type": "code",
      "source": [
        "def person(name, age, city, country):\n",
        "    print(f\"Name: {name}, Age: {age}, City: {city}, Country: {country}\")\n",
        "\n",
        "person(\"Alice\", 25, \"New York\", \"USA\")\n",
        "\n"
      ],
      "metadata": {
        "colab": {
          "base_uri": "https://localhost:8080/"
        },
        "id": "9VYjjiSfmOfG",
        "outputId": "ce579e87-8921-49c0-caaf-32795cc1bb55"
      },
      "execution_count": 31,
      "outputs": [
        {
          "output_type": "stream",
          "name": "stdout",
          "text": [
            "Name: Alice, Age: 25, City: New York, Country: USA\n"
          ]
        }
      ]
    }
  ]
}