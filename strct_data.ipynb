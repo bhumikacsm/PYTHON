{
  "nbformat": 4,
  "nbformat_minor": 0,
  "metadata": {
    "colab": {
      "provenance": []
    },
    "kernelspec": {
      "name": "python3",
      "display_name": "Python 3"
    },
    "language_info": {
      "name": "python"
    }
  },
  "cells": [
    {
      "cell_type": "code",
      "source": [
        "bhumika =[1,2,3,4]\n",
        "bhumika[1] =10\n",
        "print(\"after asing an item:\",bhumika)"
      ],
      "metadata": {
        "colab": {
          "base_uri": "https://localhost:8080/"
        },
        "id": "DIcO8GgOA0fN",
        "outputId": "67c85272-0a3b-4633-9923-2d1e6447282f"
      },
      "execution_count": 10,
      "outputs": [
        {
          "output_type": "stream",
          "name": "stdout",
          "text": [
            "after asing an item: [1, 10, 3, 4]\n"
          ]
        }
      ]
    },
    {
      "cell_type": "code",
      "source": [
        "bhumika.insert(2,3)\n",
        "print(\"after sorting:\",bhumika)"
      ],
      "metadata": {
        "colab": {
          "base_uri": "https://localhost:8080/"
        },
        "id": "cxkIpu9pBHtE",
        "outputId": "2b024744-e81b-426a-8e32-21a98c01c83c"
      },
      "execution_count": 11,
      "outputs": [
        {
          "output_type": "stream",
          "name": "stdout",
          "text": [
            "after sorting: [1, 10, 3, 3, 4]\n"
          ]
        }
      ]
    },
    {
      "cell_type": "code",
      "source": [
        "bhumika.reverse()\n",
        "print(\"after reversing:\",bhumika)"
      ],
      "metadata": {
        "colab": {
          "base_uri": "https://localhost:8080/"
        },
        "id": "udagR6YCERQF",
        "outputId": "bebbb50d-d603-4236-d660-f855f9f8ec76"
      },
      "execution_count": 12,
      "outputs": [
        {
          "output_type": "stream",
          "name": "stdout",
          "text": [
            "after reversing: [4, 3, 3, 10, 1]\n"
          ]
        }
      ]
    },
    {
      "cell_type": "code",
      "source": [
        "print(\"iterating througt the list:\")\n",
        "for item in bhumika:\n",
        "  print(item)"
      ],
      "metadata": {
        "colab": {
          "base_uri": "https://localhost:8080/"
        },
        "id": "Tz-GNZEsEmdI",
        "outputId": "56f9dd28-2f64-4ac3-b14a-14922392c90b"
      },
      "execution_count": 13,
      "outputs": [
        {
          "output_type": "stream",
          "name": "stdout",
          "text": [
            "iterating througt the list:\n",
            "4\n",
            "3\n",
            "3\n",
            "10\n",
            "1\n"
          ]
        }
      ]
    },
    {
      "cell_type": "code",
      "source": [
        "length = len(bhumika)\n",
        "print(\"length of the list:\",bhumika)"
      ],
      "metadata": {
        "colab": {
          "base_uri": "https://localhost:8080/"
        },
        "id": "VMyox2H3E57e",
        "outputId": "54c345e9-a2dd-4641-c2af-a3c7a6cfda2c"
      },
      "execution_count": 15,
      "outputs": [
        {
          "output_type": "stream",
          "name": "stdout",
          "text": [
            "length of the list: [4, 3, 3, 10, 1]\n"
          ]
        }
      ]
    },
    {
      "cell_type": "code",
      "source": [
        "bhumika.sort()\n",
        "print(\"after sorting:\",bhumika)"
      ],
      "metadata": {
        "colab": {
          "base_uri": "https://localhost:8080/"
        },
        "id": "y5JPpw6DFuWJ",
        "outputId": "c84e35fe-1c0e-4e7d-b488-a328dcca5bba"
      },
      "execution_count": 17,
      "outputs": [
        {
          "output_type": "stream",
          "name": "stdout",
          "text": [
            "after sorting: [1, 3, 3, 4, 10]\n"
          ]
        }
      ]
    }
  ]
}