{
  "nbformat": 4,
  "nbformat_minor": 0,
  "metadata": {
    "colab": {
      "provenance": []
    },
    "kernelspec": {
      "name": "python3",
      "display_name": "Python 3"
    },
    "language_info": {
      "name": "python"
    }
  },
  "cells": [
    {
      "cell_type": "code",
      "source": [
        "bhumika.insert(2,3)\n",
        "print(\"after inserting an item:\",bhumika)"
      ],
      "metadata": {
        "colab": {
          "base_uri": "https://localhost:8080/"
        },
        "id": "ZX29cF_F_1Tx",
        "outputId": "e3d4fd7a-da8d-40a0-9888-91b5cedcf079"
      },
      "execution_count": 9,
      "outputs": [
        {
          "output_type": "stream",
          "name": "stdout",
          "text": [
            "after inserting an item: [1, 10, 3, 7, 7]\n"
          ]
        }
      ]
    }
  ]
}