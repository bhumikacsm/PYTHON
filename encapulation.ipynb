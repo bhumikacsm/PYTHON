{
  "nbformat": 4,
  "nbformat_minor": 0,
  "metadata": {
    "colab": {
      "provenance": []
    },
    "kernelspec": {
      "name": "python3",
      "display_name": "Python 3"
    },
    "language_info": {
      "name": "python"
    }
  },
  "cells": [
    {
      "cell_type": "code",
      "source": [
        "class Sushma:\n",
        "    def __init__(self):\n",
        "        self.pub = \"ok\"\n",
        "        self.__rajesh = \"not ok\"\n",
        "\n",
        "    def thirisha_private(self):\n",
        "        print(self.__rajesh)\n",
        "neha = Sushma()\n",
        "print(neha.pub)\n",
        "neha.thirisha_private()\n",
        "\n"
      ],
      "metadata": {
        "colab": {
          "base_uri": "https://localhost:8080/"
        },
        "id": "ajXRnTpDLs2H",
        "outputId": "13fe9acc-1388-4277-fe3c-cf6fd992e7e1"
      },
      "execution_count": 44,
      "outputs": [
        {
          "output_type": "stream",
          "name": "stdout",
          "text": [
            "ok\n",
            "not ok\n"
          ]
        }
      ]
    }
  ]
}