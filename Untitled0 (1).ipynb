{
  "nbformat": 4,
  "nbformat_minor": 0,
  "metadata": {
    "colab": {
      "provenance": []
    },
    "kernelspec": {
      "name": "python3",
      "display_name": "Python 3"
    },
    "language_info": {
      "name": "python"
    }
  },
  "cells": [
    {
      "cell_type": "code",
      "execution_count": null,
      "metadata": {
        "id": "zUzrmjDOcB3x"
      },
      "outputs": [],
      "source": []
    },
    {
      "cell_type": "code",
      "source": [
        "# Proper indentation example\n",
        "def say_hello():\n",
        "    print(\"Hello, world!\")  # This line is indented\n",
        "\n",
        "say_hello()\n"
      ],
      "metadata": {
        "id": "0fH8j6S2wy0g"
      },
      "execution_count": null,
      "outputs": []
    }
  ]
}