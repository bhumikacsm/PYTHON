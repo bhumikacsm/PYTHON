{
  "nbformat": 4,
  "nbformat_minor": 0,
  "metadata": {
    "colab": {
      "provenance": []
    },
    "kernelspec": {
      "name": "python3",
      "display_name": "Python 3"
    },
    "language_info": {
      "name": "python"
    }
  },
  "cells": [
    {
      "cell_type": "code",
      "source": [
        "# Define the file name\n",
        "file_name = \"example.txt\"\n",
        "\n",
        "try:\n",
        "    # Open the file in read mode\n",
        "    with open(file_name, 'r') as file:\n",
        "        # Read all lines and count them\n",
        "        line_count = sum(1 for line in file)\n",
        "        print(f\"The file '{file_name}' has {line_count} lines.\")\n",
        "except FileNotFoundError:\n",
        "    print(f\"Error: The file '{file_name}' was not found.\")\n",
        "except Exception as e:\n",
        "    print(f\"An error occurred: {e}\")\n"
      ],
      "metadata": {
        "colab": {
          "base_uri": "https://localhost:8080/"
        },
        "id": "gkKsxmgNk3q_",
        "outputId": "3d64ed7d-0e82-47d1-c166-42bcf3314035"
      },
      "execution_count": 21,
      "outputs": [
        {
          "output_type": "stream",
          "name": "stdout",
          "text": [
            "The file 'example.txt' has 2 lines.\n"
          ]
        }
      ]
    }
  ]
}