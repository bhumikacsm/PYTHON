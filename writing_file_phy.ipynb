{
  "nbformat": 4,
  "nbformat_minor": 0,
  "metadata": {
    "colab": {
      "provenance": []
    },
    "kernelspec": {
      "name": "python3",
      "display_name": "Python 3"
    },
    "language_info": {
      "name": "python"
    }
  },
  "cells": [
    {
      "cell_type": "code",
      "source": [
        "# Define the file name\n",
        "file_name = \"user_input.txt\"\n",
        "\n",
        "# Take user input\n",
        "user_input = input(\"Please enter some text to write to the file: \")\n",
        "\n",
        "# Open the file in write mode ('w') which creates the file if it doesn't exist\n",
        "try:\n",
        "    with open(file_name, 'w') as file:\n",
        "        file.write(user_input)\n",
        "        print(f\"Your input has been written to {file_name}\")\n",
        "except Exception as e:\n",
        "    print(f\"An error occurred: {e}\")\n"
      ],
      "metadata": {
        "id": "BxqnW0yjh2Jr"
      },
      "execution_count": null,
      "outputs": []
    }
  ]
}