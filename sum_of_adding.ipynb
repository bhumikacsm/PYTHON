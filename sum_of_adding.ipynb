{
  "nbformat": 4,
  "nbformat_minor": 0,
  "metadata": {
    "colab": {
      "provenance": []
    },
    "kernelspec": {
      "name": "python3",
      "display_name": "Python 3"
    },
    "language_info": {
      "name": "python"
    }
  },
  "cells": [
    {
      "cell_type": "code",
      "source": [
        "def sum_of_even_numbers(start, end):\n",
        "    return sum(num for num in range(start, end + 1) if num % 2 == 0)\n",
        "\n",
        "start = int(input(\"Enter the start of the range: \"))\n",
        "end = int(input(\"Enter the end of the range: \"))\n",
        "\n",
        "print(f\"Sum of even numbers from {start} to {end} is: {sum_of_even_numbers(start, end)}\")\n"
      ],
      "metadata": {
        "id": "cU0qbXuQ5I1h"
      },
      "execution_count": null,
      "outputs": []
    }
  ]
}