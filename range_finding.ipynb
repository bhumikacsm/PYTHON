{
  "nbformat": 4,
  "nbformat_minor": 0,
  "metadata": {
    "colab": {
      "provenance": []
    },
    "kernelspec": {
      "name": "python3",
      "display_name": "Python 3"
    },
    "language_info": {
      "name": "python"
    }
  },
  "cells": [
    {
      "cell_type": "code",
      "execution_count": 6,
      "metadata": {
        "colab": {
          "base_uri": "https://localhost:8080/"
        },
        "id": "Q-YpDuiGbmp9",
        "outputId": "4ff7752a-b094-40b0-a339-14aced93259a"
      },
      "outputs": [
        {
          "output_type": "stream",
          "name": "stdout",
          "text": [
            "enter start range3\n",
            "enter the end range5\n",
            "1\n",
            "2\n",
            "3\n"
          ]
        }
      ],
      "source": [
        "a=int(input(\"enter start range\"))\n",
        "b=int(input(\"enter the end range\"))\n",
        "sum =0\n",
        "for i in range(a,b+1):\n",
        "  sum=sum+1\n",
        "\n",
        "\n",
        "  print(sum)"
      ]
    }
  ]
}