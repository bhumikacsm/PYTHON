{
  "nbformat": 4,
  "nbformat_minor": 0,
  "metadata": {
    "colab": {
      "provenance": []
    },
    "kernelspec": {
      "name": "python3",
      "display_name": "Python 3"
    },
    "language_info": {
      "name": "python"
    }
  },
  "cells": [
    {
      "cell_type": "code",
      "source": [
        "class Circle:\n",
        "    def area(self):\n",
        "        return 3.14*float(self.radius)**2\n",
        "        circle=circle1()\n",
        "        circle.radius=3\n",
        "        circle.area()\n",
        ""
      ],
      "metadata": {
        "id": "6fr2ibqL7Y0r"
      },
      "execution_count": 12,
      "outputs": []
    }
  ]
}