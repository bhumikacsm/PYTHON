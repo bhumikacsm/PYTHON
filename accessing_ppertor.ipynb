{
  "nbformat": 4,
  "nbformat_minor": 0,
  "metadata": {
    "colab": {
      "provenance": []
    },
    "kernelspec": {
      "name": "python3",
      "display_name": "Python 3"
    },
    "language_info": {
      "name": "python"
    }
  },
  "cells": [
    {
      "cell_type": "code",
      "source": [
        "bhumika =[1,5,7,7]\n",
        "bhumika[1] = 10\n",
        "print(\"afterassing an item:\",bhumika)"
      ],
      "metadata": {
        "colab": {
          "base_uri": "https://localhost:8080/"
        },
        "id": "sOfgc-sJ-pC2",
        "outputId": "6989e23c-de2d-4bc3-e736-d172b290ca51"
      },
      "execution_count": 8,
      "outputs": [
        {
          "output_type": "stream",
          "name": "stdout",
          "text": [
            "afterassing an item: [1, 10, 7, 7]\n"
          ]
        }
      ]
    }
  ]
}