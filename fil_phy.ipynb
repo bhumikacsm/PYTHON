{
  "nbformat": 4,
  "nbformat_minor": 0,
  "metadata": {
    "colab": {
      "provenance": []
    },
    "kernelspec": {
      "name": "python3",
      "display_name": "Python 3"
    },
    "language_info": {
      "name": "python"
    }
  },
  "cells": [
    {
      "cell_type": "code",
      "source": [
        "source_file = \"source.txt\"\n",
        "destination_file = \"destination.txt\"\n",
        "\n",
        "try:\n",
        "    with open(source_file, 'r') as src_file:\n",
        "        with open(destination_file, 'w') as dest_file\n",
        "            content = src_file.rad()\n",
        "            dest_file.write(content)\n",
        "            print(f\"Contents of '{source_file}' have been copied to '{destination_file}'\")\n",
        "except FileNotFoundError:\n",
        "    print(f\"Error: The file '{source_file}' was not found.\")\n",
        "except Exception as e:\n",
        "    print(f\"An error occurred: {e}\")\n"
      ],
      "metadata": {
        "colab": {
          "base_uri": "https://localhost:8080/",
          "height": 106
        },
        "id": "vbyCvw0nj-6j",
        "outputId": "4f0c0a9d-0fdf-42a2-c376-06887ec30383"
      },
      "execution_count": 20,
      "outputs": [
        {
          "output_type": "error",
          "ename": "SyntaxError",
          "evalue": "expected ':' (<ipython-input-20-f2423de3a14b>, line 6)",
          "traceback": [
            "\u001b[0;36m  File \u001b[0;32m\"<ipython-input-20-f2423de3a14b>\"\u001b[0;36m, line \u001b[0;32m6\u001b[0m\n\u001b[0;31m    with open(destination_file, 'w') as dest_file\u001b[0m\n\u001b[0m                                                 ^\u001b[0m\n\u001b[0;31mSyntaxError\u001b[0m\u001b[0;31m:\u001b[0m expected ':'\n"
          ]
        }
      ]
    }
  ]
}