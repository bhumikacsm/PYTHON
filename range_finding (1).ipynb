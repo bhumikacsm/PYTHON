{
  "nbformat": 4,
  "nbformat_minor": 0,
  "metadata": {
    "colab": {
      "provenance": []
    },
    "kernelspec": {
      "name": "python3",
      "display_name": "Python 3"
    },
    "language_info": {
      "name": "python"
    }
  },
  "cells": [
    {
      "cell_type": "code",
      "execution_count": 6,
      "metadata": {
        "colab": {
          "base_uri": "https://localhost:8080/"
        },
        "id": "Q-YpDuiGbmp9",
        "outputId": "4ff7752a-b094-40b0-a339-14aced93259a"
      },
      "outputs": [
        {
          "output_type": "stream",
          "name": "stdout",
          "text": [
            "enter start range3\n",
            "enter the end range5\n",
            "1\n",
            "2\n",
            "3\n"
          ]
        }
      ],
      "source": [
        "a=int(input(\"enter start range\"))\n",
        "b=int(input(\"enter the end range\"))\n",
        "sum =0\n",
        "for i in range(a,b+1):\n",
        "  sum=sum+1\n",
        "\n",
        "\n",
        "  print(sum)"
      ]
    },
    {
      "cell_type": "code",
      "source": [
        "a=int(input(\"enter start range\"))\n",
        "b=int(input(\"enter the end range\"))\n",
        "fact =1\n",
        "for i in range(1,6+1):\n",
        "  fact*=i\n",
        "  print(fact)"
      ],
      "metadata": {
        "colab": {
          "base_uri": "https://localhost:8080/"
        },
        "id": "LfDgeMSWmxTi",
        "outputId": "cf661f9b-bd25-432c-94ed-5c75e77d6f84"
      },
      "execution_count": 9,
      "outputs": [
        {
          "output_type": "stream",
          "name": "stdout",
          "text": [
            "enter start range1\n",
            "enter the end range2\n",
            "1\n",
            "2\n",
            "6\n",
            "24\n",
            "120\n",
            "720\n"
          ]
        }
      ]
    }
  ]
}