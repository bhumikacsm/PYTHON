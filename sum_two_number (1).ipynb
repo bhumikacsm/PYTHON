{
  "nbformat": 4,
  "nbformat_minor": 0,
  "metadata": {
    "colab": {
      "provenance": []
    },
    "kernelspec": {
      "name": "python3",
      "display_name": "Python 3"
    },
    "language_info": {
      "name": "python"
    }
  },
  "cells": [
    {
      "cell_type": "markdown",
      "source": [],
      "metadata": {
        "id": "TwARGKhKephg"
      }
    },
    {
      "cell_type": "code",
      "source": [
        "def sum_two_numbers(a, b):\n",
        "    return a + b\n",
        "\n",
        "result = sum_two_numbers(10, 20)\n",
        "print(f\"Sum: {result}\")\n",
        "\n",
        "print(\"bhumika ec10\")\n"
      ],
      "metadata": {
        "colab": {
          "base_uri": "https://localhost:8080/"
        },
        "id": "Oq8VxJS14qUj",
        "outputId": "c5d2a250-1f92-4059-af9e-be0b507d8e82"
      },
      "execution_count": 17,
      "outputs": [
        {
          "output_type": "stream",
          "name": "stdout",
          "text": [
            "Sum: 30\n",
            "bhumika ec10\n"
          ]
        }
      ]
    }
  ]
}