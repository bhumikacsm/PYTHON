{
  "nbformat": 4,
  "nbformat_minor": 0,
  "metadata": {
    "colab": {
      "provenance": []
    },
    "kernelspec": {
      "name": "python3",
      "display_name": "Python 3"
    },
    "language_info": {
      "name": "python"
    }
  },
  "cells": [
    {
      "cell_type": "code",
      "source": [
        "def person(name, age, city=\"New York\", country=\"USA\"):\n",
        "    print(f\"Name: {name}, Age: {age}, City: {city}, Country: {country}\")\n",
        "\n",
        "person(\"Bob\", 30)\n",
        "\n"
      ],
      "metadata": {
        "colab": {
          "base_uri": "https://localhost:8080/"
        },
        "id": "hlLfHFYMls9i",
        "outputId": "8a67db7c-5a3d-4fb1-e4c9-f3a561cbd6dc"
      },
      "execution_count": 30,
      "outputs": [
        {
          "output_type": "stream",
          "name": "stdout",
          "text": [
            "Name: Bob, Age: 30, City: New York, Country: USA\n"
          ]
        }
      ]
    }
  ]
}