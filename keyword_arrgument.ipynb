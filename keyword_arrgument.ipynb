{
  "nbformat": 4,
  "nbformat_minor": 0,
  "metadata": {
    "colab": {
      "provenance": []
    },
    "kernelspec": {
      "name": "python3",
      "display_name": "Python 3"
    },
    "language_info": {
      "name": "python"
    }
  },
  "cells": [
    {
      "cell_type": "code",
      "source": [
        "def greet(name, greeting):\n",
        "    print(f\"{greeting}, {name}!\")\n",
        "\n",
        "greet(name=\"Alice\", greeting=\"Hello\")\n",
        "\n",
        "\n",
        "greet(greeting=\"Hi\", name=\"Bob\")\n",
        "\n"
      ],
      "metadata": {
        "colab": {
          "base_uri": "https://localhost:8080/"
        },
        "id": "57AhPRwqpAyQ",
        "outputId": "80693867-2c26-4010-aa7a-836d85d5259d"
      },
      "execution_count": 36,
      "outputs": [
        {
          "output_type": "stream",
          "name": "stdout",
          "text": [
            "Hello, Alice!\n",
            "Hi, Bob!\n"
          ]
        }
      ]
    }
  ]
}