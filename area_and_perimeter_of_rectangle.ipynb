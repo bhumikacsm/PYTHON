{
  "nbformat": 4,
  "nbformat_minor": 0,
  "metadata": {
    "colab": {
      "provenance": []
    },
    "kernelspec": {
      "name": "python3",
      "display_name": "Python 3"
    },
    "language_info": {
      "name": "python"
    }
  },
  "cells": [
    {
      "cell_type": "code",
      "source": [
        "l=float(input(\"enter the length\"))\n",
        "b=float(input(\"enter the breath\"))\n",
        "area=l*b\n",
        "perimeter=2*(l+b)\n",
        "primeter=2*(l+b)\n",
        "print(\"area\",area,\"\\nperimeter\",perimeter)"
      ],
      "metadata": {
        "colab": {
          "base_uri": "https://localhost:8080/",
          "height": 0
        },
        "id": "nOLJYx3Bk91_",
        "outputId": "60ff12c9-f9cb-4a1b-83b6-c31339deda71"
      },
      "execution_count": 27,
      "outputs": [
        {
          "output_type": "stream",
          "name": "stdout",
          "text": [
            "enter the length2\n",
            "enter the breath3\n",
            "area 6.0 \n",
            "perimeter 10.0\n"
          ]
        }
      ]
    }
  ]
}