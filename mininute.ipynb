{
  "nbformat": 4,
  "nbformat_minor": 0,
  "metadata": {
    "colab": {
      "provenance": []
    },
    "kernelspec": {
      "name": "python3",
      "display_name": "Python 3"
    },
    "language_info": {
      "name": "python"
    }
  },
  "cells": [
    {
      "cell_type": "code",
      "source": [
        "min=int(input(\"time in min\"))\n",
        "hour=min//60\n",
        "remainingminutes=min%60\n",
        "print(hour)\n",
        "print(remainingminutes)"
      ],
      "metadata": {
        "colab": {
          "base_uri": "https://localhost:8080/"
        },
        "id": "7YGbvXkNn8Xa",
        "outputId": "d35cb716-9cb0-408a-e3c9-20c67413e9d5"
      },
      "execution_count": 28,
      "outputs": [
        {
          "output_type": "stream",
          "name": "stdout",
          "text": [
            "time in min120\n",
            "2\n",
            "0\n"
          ]
        }
      ]
    }
  ]
}